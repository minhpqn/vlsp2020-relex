{
 "cells": [
  {
   "cell_type": "markdown",
   "metadata": {},
   "source": [
    "# Data Analysis\n",
    "\n",
    "- Read `.conll` data and write the unique list of entity, entity ids, and relations"
   ]
  },
  {
   "cell_type": "code",
   "execution_count": 2,
   "metadata": {},
   "outputs": [
    {
     "name": "stdout",
     "output_type": "stream",
     "text": [
      "Number of sub-directories: 506\n"
     ]
    }
   ],
   "source": [
    "import re\n",
    "import os\n",
    "from collections import Counter\n",
    "\n",
    "\n",
    "def write_unique_keys(values, file_path):\n",
    "    c = Counter(values)\n",
    "    with open(file_path, \"w\") as fo:\n",
    "        for k in sorted(c.keys()):\n",
    "            print(f\"{k}\\t{c[k]}\", file=fo)\n",
    "    \n",
    "\n",
    "input_dir = \"./data/VLSP2020_RE_training_fixed\"\n",
    "# input_dir = \"./data/VLSP2020_RE_dev_fixed\"\n",
    "\n",
    "subdirs = [d for d in os.listdir(input_dir) if os.path.isdir(os.path.join(input_dir, d))\n",
    "           and re.search(r\"\\.conll\", d)]\n",
    "print(\"Number of sub-directories: {}\".format(len(subdirs)))\n",
    "\n",
    "error_file = open(\"./tmp/errors.txt\", \"w\")\n",
    "\n",
    "field3, field4, field5, field6 = [], [], [], []\n",
    "for subdir in subdirs:\n",
    "    subdir_ = os.path.join(input_dir, subdir)\n",
    "    files = [f for f in os.listdir(subdir_) if re.search(r\"\\.tsv\", f)]\n",
    "    for file in files:\n",
    "        file_path = os.path.join(subdir_, file)\n",
    "        with open(file_path, 'r') as fi:\n",
    "            i = 0\n",
    "            for line in fi:\n",
    "                i += 1\n",
    "                line = line.rstrip()\n",
    "                if line == \"\":\n",
    "                    continue\n",
    "                if re.search(r\"#Text=(.+)$\", line):\n",
    "                    continue\n",
    "                elif re.search(r\"^1-\\d+\", line):\n",
    "                    fields = line.split(\"\\t\")\n",
    "                    if len(fields) > 3:\n",
    "                        field3.append(fields[3])\n",
    "                    if len(fields) > 4:\n",
    "                        field4.append(fields[4])\n",
    "                        if re.search(r\"^\\*\", fields[4]):\n",
    "                            print(f\"{subdir}/{file}\\tLine: {i}\\t{line}\", file=error_file)\n",
    "                    if len(fields) > 5:\n",
    "                        field5.append(fields[5])\n",
    "                        if re.search(r\"\\*\", fields[5]):\n",
    "                            print(f\"{fields[5]}\\t{subdir}/{file}\\tLine: {i}\\t{line}\", file=error_file)\n",
    "                    if len(fields) > 6:\n",
    "                        field6.append(fields[6])\n",
    "                        if not re.search(r\"^[0-9-\\[\\]_\\.|\\s]*$\", fields[6]):\n",
    "                            print(f\"{fields[6]}\\t{subdir}/{file}\\tLine: {i}\\t{line}\", file=error_file)\n",
    "                        entity1_ids = fields[6].split(\"|\")\n",
    "                        rel_types = fields[5].split(\"|\")\n",
    "                        if len(entity1_ids)  != len(rel_types):\n",
    "                            print(f\"{fields[6]}\\t{subdir}/{file}\\tLine: {i}\\t{line}\", file=error_file)\n",
    "\n",
    "write_unique_keys(field3, \"tmp/field3.txt\")\n",
    "write_unique_keys(field4, \"tmp/field4.txt\")\n",
    "write_unique_keys(field5, \"tmp/field5.txt\")\n",
    "write_unique_keys(field6, \"tmp/field6.txt\")\n",
    "\n",
    "error_file.close()"
   ]
  },
  {
   "cell_type": "markdown",
   "metadata": {},
   "source": [
    "## List-up data files that contain PERSONAL-SOCIAL\n"
   ]
  },
  {
   "cell_type": "code",
   "execution_count": 5,
   "metadata": {},
   "outputs": [
    {
     "data": {
      "text/plain": [
       "['./data/VLSP2020_RE_training_fixed/23351260.conll/CURATION_USER.tsv',\n",
       " './data/VLSP2020_RE_training_fixed/23351416.conll/CURATION_USER.tsv',\n",
       " './data/VLSP2020_RE_training_fixed/23351426.conll/CURATION_USER.tsv',\n",
       " './data/VLSP2020_RE_training_fixed/23351493.conll/CURATION_USER.tsv',\n",
       " './data/VLSP2020_RE_training_fixed/23351515.conll/CURATION_USER.tsv',\n",
       " './data/VLSP2020_RE_training_fixed/23351516.conll/CURATION_USER.tsv',\n",
       " './data/VLSP2020_RE_training_fixed/23351519.conll/CURATION_USER.tsv',\n",
       " './data/VLSP2020_RE_training_fixed/23351563.conll/CURATION_USER.tsv',\n",
       " './data/VLSP2020_RE_training_fixed/23351564.conll/CURATION_USER.tsv',\n",
       " './data/VLSP2020_RE_training_fixed/23351569.conll/CURATION_USER.tsv',\n",
       " './data/VLSP2020_RE_training_fixed/23351612.conll/CURATION_USER.tsv',\n",
       " './data/VLSP2020_RE_training_fixed/23351615.conll/CURATION_USER.tsv',\n",
       " './data/VLSP2020_RE_training_fixed/23351627.conll/CURATION_USER.tsv',\n",
       " './data/VLSP2020_RE_training_fixed/23351649.conll/CURATION_USER.tsv',\n",
       " './data/VLSP2020_RE_training_fixed/23351834.conll/CURATION_USER.tsv',\n",
       " './data/VLSP2020_RE_training_fixed/23351851.conll/CURATION_USER.tsv',\n",
       " './data/VLSP2020_RE_training_fixed/23351933.conll/CURATION_USER.tsv',\n",
       " './data/VLSP2020_RE_training_fixed/23351948.conll/CURATION_USER.tsv',\n",
       " './data/VLSP2020_RE_training_fixed/23351978.conll/CURATION_USER.tsv',\n",
       " './data/VLSP2020_RE_training_fixed/23351985.conll/CURATION_USER.tsv',\n",
       " './data/VLSP2020_RE_training_fixed/23351988.conll/CURATION_USER.tsv',\n",
       " './data/VLSP2020_RE_training_fixed/23352671.conll/CURATION_USER.tsv',\n",
       " './data/VLSP2020_RE_training_fixed/23352676.conll/CURATION_USER.tsv',\n",
       " './data/VLSP2020_RE_training_fixed/23352681.conll/CURATION_USER.tsv',\n",
       " './data/VLSP2020_RE_training_fixed/23352701.conll/CURATION_USER.tsv',\n",
       " './data/VLSP2020_RE_training_fixed/23352702.conll/CURATION_USER.tsv',\n",
       " './data/VLSP2020_RE_training_fixed/23352719.conll/CURATION_USER.tsv',\n",
       " './data/VLSP2020_RE_training_fixed/23352748.conll/CURATION_USER (1).tsv',\n",
       " './data/VLSP2020_RE_training_fixed/23352757.conll/CURATION_USER (1).tsv',\n",
       " './data/VLSP2020_RE_training_fixed/23352857.conll/CURATION_USER (1).tsv',\n",
       " './data/VLSP2020_RE_training_fixed/23352886.conll/CURATION_USER (1).tsv',\n",
       " './data/VLSP2020_RE_training_fixed/23352899.conll/CURATION_USER (1).tsv',\n",
       " './data/VLSP2020_RE_training_fixed/23353779.conll/CURATION_USER.tsv',\n",
       " './data/VLSP2020_RE_training_fixed/23353786.conll/CURATION_USER.tsv',\n",
       " './data/VLSP2020_RE_training_fixed/23353864.conll/CURATION_USER.tsv',\n",
       " './data/VLSP2020_RE_training_fixed/23353867.conll/CURATION_USER.tsv',\n",
       " './data/VLSP2020_RE_training_fixed/23353944.conll/CURATION_USER.tsv',\n",
       " './data/VLSP2020_RE_training_fixed/23354055.conll/CURATION_USER.tsv',\n",
       " './data/VLSP2020_RE_training_fixed/23354879.conll/CURATION_USER.tsv',\n",
       " './data/VLSP2020_RE_training_fixed/23354910.conll/CURATION_USER.tsv',\n",
       " './data/VLSP2020_RE_training_fixed/23356858.conll/CURATION_USER.tsv',\n",
       " './data/VLSP2020_RE_training_fixed/23356918.conll/CURATION_USER.tsv',\n",
       " './data/VLSP2020_RE_training_fixed/23357233.conll/CURATION_USER.tsv',\n",
       " './data/VLSP2020_RE_training_fixed/23357752.conll/CURATION_USER.tsv',\n",
       " './data/VLSP2020_RE_training_fixed/23358104.conll/CURATION_USER.tsv']"
      ]
     },
     "execution_count": 5,
     "metadata": {},
     "output_type": "execute_result"
    }
   ],
   "source": [
    "res = set()\n",
    "for subdir in subdirs:\n",
    "    subdir_ = os.path.join(input_dir, subdir)\n",
    "    files = [f for f in os.listdir(subdir_) if re.search(r\"\\.tsv\", f)]\n",
    "    for file in files:\n",
    "        file_path = os.path.join(subdir_, file)\n",
    "        with open(file_path, 'r') as fi:\n",
    "            for line in fi:\n",
    "                line = line.rstrip()\n",
    "                if line == \"\":\n",
    "                    continue\n",
    "                if re.search(r\"PERSONAL - SOCIAL\", line):\n",
    "                    res.add(file_path)\n",
    "sorted(list(res))"
   ]
  },
  {
   "cell_type": "code",
   "execution_count": null,
   "metadata": {},
   "outputs": [],
   "source": []
  }
 ],
 "metadata": {
  "kernelspec": {
   "display_name": "Python 3",
   "language": "python",
   "name": "python3"
  },
  "language_info": {
   "codemirror_mode": {
    "name": "ipython",
    "version": 3
   },
   "file_extension": ".py",
   "mimetype": "text/x-python",
   "name": "python",
   "nbconvert_exporter": "python",
   "pygments_lexer": "ipython3",
   "version": "3.6.12"
  },
  "toc": {
   "base_numbering": 1,
   "nav_menu": {},
   "number_sections": true,
   "sideBar": true,
   "skip_h1_title": true,
   "title_cell": "Table of Contents",
   "title_sidebar": "Contents",
   "toc_cell": false,
   "toc_position": {},
   "toc_section_display": true,
   "toc_window_display": true
  }
 },
 "nbformat": 4,
 "nbformat_minor": 4
}
